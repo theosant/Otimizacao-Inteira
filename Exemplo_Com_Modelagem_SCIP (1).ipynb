{
  "cells": [
    {
      "cell_type": "markdown",
      "metadata": {
        "id": "SEMXAHDpmTAP"
      },
      "source": [
        "<h1><center>Exemplo do SCIP </center></h1>\n"
      ]
    },
    {
      "cell_type": "markdown",
      "metadata": {
        "id": "9_7wpxLgbu9d"
      },
      "source": [
        "<h2><center>Abertura de Depósitos e Transferência de Produtos </center></h2>\n",
        "\n",
        "\n",
        "Uma empresa deseja abrir depósitos em quatro cidades: São Carlos, Campinas, Sorocaba e Limeira. Cada depósito pode transportar 100 produtos por semana. O custo fixo para manutenção de cada depósito aberto varia em cada cidade, como mostrado na Tabela 1. Três regiões do Brasil demandam produtos: a Região 1 solicita 80 produtos por semana, a Região 2 solicita 70 produtos por semana, e a Região 3 solicita 40 produtos por semana. Os custos de enviar um produto de um depósito até uma determinada Região são dados na Tabela 2. Deseja-se atender a demanda total semanal de cada região com o menor custo possível, de acordo com as seguintes informações:\n",
        "\n",
        "\n",
        "1. Se um depósito é aberto em São Carlos, então o depósito de Campinas também precisa ser aberto.\n",
        "2. No máximo dois depósitos podem ser abertos.\n",
        "3. O depósito de Sorocaba ou de Limeira precisa ser aberto.\n",
        "\n",
        "\n",
        "\n",
        "\n",
        "\n",
        "Elabore um modelo matemática de otimização linear para minimizar os custos de distribuição.\n",
        "\n",
        "<h3><center>Tabela 1 - Custos de abertura dos depósitos </center></h3>\n",
        "\n",
        "\\begin{array}{c|c}\n",
        "\\hline\n",
        "Cidade & Custo \\ Fixo \\\\ \\hline\n",
        "São \\ Carlos &  R$400 \\\\\n",
        "Campinas &  R$500 \\\\\n",
        "Sorocaba &  R$300 \\\\\n",
        "Limeira &  R$150 \\\\\\hline\n",
        "\\end{array}\n",
        "\n",
        "<h3><center>Tabela 2 - Custos unitários de envio de mercadorias</center></h3>\n",
        "\n",
        "\\begin{array}{c|c|c|c}\n",
        "\\hline\n",
        "De & Para \\ Região \\ 1 & Para \\ Região \\ 2 & Para \\ Região \\ 3\\\\ \\hline\n",
        "São \\ Carlos &  R$20 &  R$40 &  R$50 \\\\\n",
        "Campinas &  R$48 &  R$15 &  R$26 \\\\\n",
        "Sorocaba &  R$26 &  R$35 &  R$18 \\\\\n",
        "Limeira &  R$24 &  R$50 &  R$35 \\\\ \\hline\n",
        "\\end{array}\n"
      ]
    },
    {
      "cell_type": "markdown",
      "metadata": {
        "id": "W03p4S67cdTh"
      },
      "source": []
    },
    {
      "cell_type": "markdown",
      "metadata": {
        "id": "GQ_8C-p2cgyL"
      },
      "source": [
        "<h2><center> Resolução </center></h2>\n",
        "\n",
        "### Conjuntos\n",
        "$D$: conjunto de depósitos = {São Carlos, Campinas, Sorocaba, Limeira}.\n",
        "\n",
        "$R$: conjunto de regiões = {Região 1, Região 2, Região 3}\n",
        "\n",
        "### Parâmetros\n",
        "\n",
        "${CF}_{i}$: custo fixo de abertura do depósito $i$.\n",
        "\n",
        "$T_{ij}$: custo de envio de um produto do depóstio $i$ para a região $j$.\n",
        "\n",
        "${d}_{j}$: demanda de cada região $j$.\n",
        "\n",
        "\n",
        "### Variáveis de Decisão\n",
        "${x}_i \\in \\{0,1\\}$: é igual a 1 se o depósito $i$ é aberto; e igual a 0 caso contrário.\n",
        "\n",
        "${p}_{ij} \\geq 0$: quantidade de produtos transportados do depósito $i$ para a região $j$.\n",
        "\n",
        "### Função Objetivo\n",
        "\n",
        "- **Custo total**: Minimiza o custo para entrega da demanda e de abertura de depósitos:\n",
        "\n",
        "\\begin{equation}\n",
        "\\text{Min} \\quad Z = \\sum_{i \\in D}\\text{CF}_i \\ {x}_{i} + \\sum_{i \\in D \\\\ j \\in R} T_{ij} \\ {p}_{ij}\n",
        "\\tag{0}\n",
        "\\end{equation}\n",
        "\n",
        "### Restrições\n",
        "\n",
        "- **Controle de envio máximo permitido para cada depósito**:\n",
        "\n",
        "\\begin{equation}\n",
        "\\sum_{j \\in R} {p}_{ij} \\leq 100 \\ \\text{x}_{i} \\quad \\forall i \\in D\n",
        "\\tag{1}\n",
        "\\end{equation}\n",
        "\n",
        "- **Cumprimento da demanda por região**:\n",
        "\n",
        "\\begin{equation}\n",
        "\\sum_{i \\in D} {p}_{ij} \\geq {d}_{j} \\quad \\forall j \\in R\n",
        "\\tag{2}\n",
        "\\end{equation}\n",
        "\n",
        "- **Restrição para Condição 1**:\n",
        "\n",
        "\\begin{equation}\n",
        "{x}_{Campinas} \\geq {x}_{São \\ Carlos}\n",
        "\\tag{1}\n",
        "\\end{equation}\n",
        "\n",
        "- **Restrição para Condição 2**:\n",
        "\n",
        "\\begin{equation}\n",
        "\\sum_{i \\in D} {x}_{i} \\leq 2\n",
        "\\tag{2}\n",
        "\\end{equation}\n",
        "\n",
        "- **Restrição para Condição 3**:\n",
        "\n",
        "\\begin{equation}\n",
        "{x}_{Sorocaba} + {x}_{Limeira} \\geq 1\n",
        "\\tag{3}\n",
        "\\end{equation}\n",
        "\n",
        "- **Domínio das Variáveis**:\n",
        "\n",
        "\\begin{equation}\n",
        "{x}_{i} \\in \\{0,1\\} \\quad \\forall i \\in D\n",
        "\\tag{4}\n",
        "\\end{equation}\n",
        "\n",
        "\\begin{equation}\n",
        "{p}_{ij} \\geq 0 \\quad \\forall i \\in D, \\forall j \\in R\n",
        "\\tag{5}\n",
        "\\end{equation}"
      ]
    },
    {
      "cell_type": "code",
      "execution_count": 1,
      "metadata": {
        "colab": {
          "base_uri": "https://localhost:8080/"
        },
        "id": "UogC7Jf-cHDT",
        "outputId": "d2ef4d1b-adf1-426b-983b-53653e86ebfc"
      },
      "outputs": [
        {
          "ename": "RuntimeError",
          "evalue": "This module must ONLY run as part of a Colab notebook!",
          "output_type": "error",
          "traceback": [
            "\u001b[1;31m---------------------------------------------------------------------------\u001b[0m",
            "\u001b[1;31mModuleNotFoundError\u001b[0m                       Traceback (most recent call last)",
            "File \u001b[1;32m~\\AppData\\Local\\Packages\\PythonSoftwareFoundation.Python.3.11_qbz5n2kfra8p0\\LocalCache\\local-packages\\Python311\\site-packages\\condacolab.py:27\u001b[0m\n\u001b[0;32m     26\u001b[0m \u001b[39mtry\u001b[39;00m:\n\u001b[1;32m---> 27\u001b[0m     \u001b[39mimport\u001b[39;00m \u001b[39mgoogle\u001b[39;00m\u001b[39m.\u001b[39;00m\u001b[39mcolab\u001b[39;00m\n\u001b[0;32m     28\u001b[0m \u001b[39mexcept\u001b[39;00m \u001b[39mImportError\u001b[39;00m:\n",
            "\u001b[1;31mModuleNotFoundError\u001b[0m: No module named 'google'",
            "\nDuring handling of the above exception, another exception occurred:\n",
            "\u001b[1;31mRuntimeError\u001b[0m                              Traceback (most recent call last)",
            "\u001b[1;32mc:\\Users\\theom\\Repositórios\\trabalhoprogmat\\Exemplo_Com_Modelagem_SCIP (1).ipynb Célula 5\u001b[0m line \u001b[0;36m3\n\u001b[0;32m      <a href='vscode-notebook-cell:/c%3A/Users/theom/Reposit%C3%B3rios/trabalhoprogmat/Exemplo_Com_Modelagem_SCIP%20%281%29.ipynb#W4sZmlsZQ%3D%3D?line=0'>1</a>\u001b[0m \u001b[39m# Instalando ambiente anaconda\u001b[39;00m\n\u001b[0;32m      <a href='vscode-notebook-cell:/c%3A/Users/theom/Reposit%C3%B3rios/trabalhoprogmat/Exemplo_Com_Modelagem_SCIP%20%281%29.ipynb#W4sZmlsZQ%3D%3D?line=1'>2</a>\u001b[0m get_ipython()\u001b[39m.\u001b[39msystem(\u001b[39m'\u001b[39m\u001b[39mpip install -q condacolab\u001b[39m\u001b[39m'\u001b[39m)\n\u001b[1;32m----> <a href='vscode-notebook-cell:/c%3A/Users/theom/Reposit%C3%B3rios/trabalhoprogmat/Exemplo_Com_Modelagem_SCIP%20%281%29.ipynb#W4sZmlsZQ%3D%3D?line=2'>3</a>\u001b[0m \u001b[39mimport\u001b[39;00m \u001b[39mcondacolab\u001b[39;00m\n\u001b[0;32m      <a href='vscode-notebook-cell:/c%3A/Users/theom/Reposit%C3%B3rios/trabalhoprogmat/Exemplo_Com_Modelagem_SCIP%20%281%29.ipynb#W4sZmlsZQ%3D%3D?line=3'>4</a>\u001b[0m condacolab\u001b[39m.\u001b[39minstall()\n",
            "File \u001b[1;32m~\\AppData\\Local\\Packages\\PythonSoftwareFoundation.Python.3.11_qbz5n2kfra8p0\\LocalCache\\local-packages\\Python311\\site-packages\\condacolab.py:29\u001b[0m\n\u001b[0;32m     27\u001b[0m     \u001b[39mimport\u001b[39;00m \u001b[39mgoogle\u001b[39;00m\u001b[39m.\u001b[39;00m\u001b[39mcolab\u001b[39;00m\n\u001b[0;32m     28\u001b[0m \u001b[39mexcept\u001b[39;00m \u001b[39mImportError\u001b[39;00m:\n\u001b[1;32m---> 29\u001b[0m     \u001b[39mraise\u001b[39;00m \u001b[39mRuntimeError\u001b[39;00m(\u001b[39m\"\u001b[39m\u001b[39mThis module must ONLY run as part of a Colab notebook!\u001b[39m\u001b[39m\"\u001b[39m)\n\u001b[0;32m     32\u001b[0m __version__ \u001b[39m=\u001b[39m \u001b[39m\"\u001b[39m\u001b[39m0.1.7\u001b[39m\u001b[39m\"\u001b[39m\n\u001b[0;32m     33\u001b[0m __author__ \u001b[39m=\u001b[39m \u001b[39m\"\u001b[39m\u001b[39mJaime Rodríguez-Guerra <jaimergp@users.noreply.github.com>\u001b[39m\u001b[39m\"\u001b[39m\n",
            "\u001b[1;31mRuntimeError\u001b[0m: This module must ONLY run as part of a Colab notebook!"
          ]
        }
      ],
      "source": [
        "# Instalando ambiente anaconda\n",
        "!pip install -q condacolab\n",
        "import condacolab\n",
        "condacolab.install()"
      ]
    },
    {
      "cell_type": "code",
      "execution_count": null,
      "metadata": {
        "colab": {
          "base_uri": "https://localhost:8080/"
        },
        "id": "L8IOCuoscHdu",
        "outputId": "25649cc3-79b2-4c8c-f080-ea51c6fe1f69"
      },
      "outputs": [
        {
          "name": "stdout",
          "output_type": "stream",
          "text": [
            "Collecting package metadata (current_repodata.json): - \b\b\\ \b\b| \b\b/ \b\b- \b\b\\ \b\b| \b\b/ \b\b- \b\b\\ \b\b| \b\b/ \b\b- \b\b\\ \b\b| \b\b/ \b\b- \b\b\\ \b\b| \b\b/ \b\b- \b\b\\ \b\b| \b\b/ \b\b- \b\b\\ \b\b| \b\b/ \b\b- \b\b\\ \b\b| \b\b/ \b\b- \b\b\\ \b\b| \b\b/ \b\b- \b\b\\ \b\b| \b\b/ \b\b- \b\b\\ \b\b| \b\b/ \b\b- \b\b\\ \b\b| \b\b/ \b\b- \b\b\\ \b\b| \b\b/ \b\b- \b\b\\ \b\b| \b\b/ \b\b- \b\b\\ \b\b| \b\b/ \b\b- \b\b\\ \b\b| \b\b/ \b\b- \b\b\\ \b\b| \b\b/ \b\b- \b\b\\ \b\b| \b\b/ \b\b- \b\b\\ \b\b| \b\b/ \b\b- \b\b\\ \b\b| \b\b/ \b\b- \b\b\\ \b\b| \b\b/ \b\b- \b\b\\ \b\b| \b\b/ \b\b- \b\b\\ \b\b| \b\b/ \b\b- \b\b\\ \b\b| \b\b/ \b\b- \b\b\\ \b\b| \b\b/ \b\b- \b\b\\ \b\b| \b\b/ \b\b- \b\b\\ \b\b| \b\b/ \b\b- \b\b\\ \b\b| \b\b/ \b\b- \b\b\\ \b\b| \b\b/ \b\b- \b\b\\ \b\b| \b\b/ \b\b- \b\b\\ \b\b| \b\b/ \b\b- \b\b\\ \b\b| \b\b/ \b\b- \b\b\\ \b\b| \b\b/ \b\b- \b\b\\ \b\b| \b\b/ \b\b- \b\b\\ \b\b| \b\b/ \b\b- \b\b\\ \b\b| \b\b/ \b\b- \b\b\\ \b\b| \b\b/ \b\b- \b\b\\ \b\b| \b\b/ \b\b- \b\b\\ \b\b| \b\b/ \b\b- \b\b\\ \b\b| \b\b/ \b\b- \b\b\\ \b\b| \b\b/ \b\b- \b\b\\ \b\b| \b\b/ \b\b- \b\b\\ \b\b| \b\b/ \b\b- \b\b\\ \b\b| \b\b/ \b\b- \b\b\\ \b\b| \b\b/ \b\b- \b\b\\ \b\b| \b\b/ \b\b- \b\b\\ \b\b| \b\b/ \b\b- \b\b\\ \b\b| \b\b/ \b\b- \b\b\\ \b\bdone\n",
            "Solving environment: / \b\b- \b\b\\ \b\b| \b\b/ \b\b- \b\b\\ \b\b| \b\b/ \b\b- \b\b\\ \b\b| \b\b/ \b\b- \b\b\\ \b\b| \b\b/ \b\b- \b\b\\ \b\b| \b\b/ \b\b- \b\b\\ \b\b| \b\b/ \b\b- \b\b\\ \b\b| \b\b/ \b\b- \b\b\\ \b\b| \b\b/ \b\b- \b\b\\ \b\bdone\n",
            "\n",
            "\n",
            "==> WARNING: A newer version of conda exists. <==\n",
            "  current version: 23.1.0\n",
            "  latest version: 23.7.4\n",
            "\n",
            "Please update conda by running\n",
            "\n",
            "    $ conda update -n base -c conda-forge conda\n",
            "\n",
            "Or to minimize the number of packages updated during conda update use\n",
            "\n",
            "     conda install conda=23.7.4\n",
            "\n",
            "\n",
            "\n",
            "# All requested packages already installed.\n",
            "\n"
          ]
        }
      ],
      "source": [
        "# Instalando pacote pyscipopt para uso do SCIP\n",
        "!conda install pyscipopt\n"
      ]
    },
    {
      "cell_type": "markdown",
      "metadata": {
        "id": "VugwzJLZeP7L"
      },
      "source": [
        "https://scipbook.readthedocs.io/en/latest/flp.html"
      ]
    },
    {
      "cell_type": "code",
      "execution_count": null,
      "metadata": {
        "id": "qyQnYN1TbC6N"
      },
      "outputs": [],
      "source": [
        "# Importando a classe Modelo e as funções quicksum e multidict do pacote pyscipopt\n",
        "\n",
        "from pyscipopt import Model, quicksum, multidict\n"
      ]
    },
    {
      "cell_type": "code",
      "execution_count": null,
      "metadata": {
        "id": "XcSZ7s8pab5F"
      },
      "outputs": [],
      "source": [
        "# Desenvolvendo uma função para implementação do modelo apresentado acima\n",
        "\n",
        "def:\n",
        "    model = Model(\"Depots_Costs\")\n",
        "    x,p = {},{}\n",
        "    for i in D:\n",
        "      x[i] = model.addVar(vtype=\"BINARY\", name=\"x(%s)\"%(i))\n",
        "    for i in D:\n",
        "      for j in R:\n",
        "        p[i,j] = model.addVar(vtype=\"INTEGER\", name=\"p(%s,%s)\"%(i,j))\n",
        "    print(x)\n",
        "    print(p)\n",
        "\n",
        "    for i in D:\n",
        "      model.addCons(quicksum(p[i,j] for j in R) <= 100*x[i], \"Controle_Envio_Máximo(%s)\"%i)\n",
        "      # print(i)\n",
        "    for j in R:\n",
        "      model.addCons(quicksum(p[i,j] for i in D) >= demands[j], \"Cumprimento_Demanda(%s)\"%j)\n",
        "    model.addCons(x['Campinas'] >= x['SaoCarlos'])\n",
        "    model.addCons(quicksum(x[i] for i in D) <= 2, \"Abertura dos Depósitos\")\n",
        "    model.addCons(x['Sorocaba'] + x['Limeira'] >= 1)\n",
        "\n",
        "    model.setObjective(\n",
        "        quicksum(fixed_costs[i] * x[i] for i in D) +\n",
        "        quicksum(transportation_costs[i,j] * p[i,j] for i in D for j in R),\n",
        "        \"minimize\")\n",
        "    model.data = x,p\n",
        "    return model"
      ]
    },
    {
      "cell_type": "code",
      "execution_count": null,
      "metadata": {
        "id": "hjtYwr-Mac3A"
      },
      "outputs": [],
      "source": [
        "# Criando dicionários para utilização na construção do Modelo\n",
        "\n",
        "regioes = ['1', '2', '3']\n",
        "depositos = ['SaoCarlos', 'Campinas', 'Sorocaba', 'Limeira']\n",
        "demandas = [80, 70, 40]\n",
        "transporte = [20, 40, 50, 48, 15, 26, 26, 35, 18, 24, 50, 35]\n",
        "custos_depositos = [400, 500, 300, 150]\n",
        "depositos, custos_fixos = multidict({i:j for i, j in zip(depositos, custos_depositos)})\n",
        "temp_transporte = [(i, j) for i in depositos for j in regioes]\n",
        "temp_transporte, custos_transporte = multidict({i:c for i, c in zip(temp_transporte, transporte)})\n",
        "demandas, demandas_regioes = multidict({i:j for i, j in zip(regioes, demandas)})\n"
      ]
    },
    {
      "cell_type": "code",
      "execution_count": null,
      "metadata": {
        "colab": {
          "base_uri": "https://localhost:8080/"
        },
        "id": "tI-C3_OCr1MZ",
        "outputId": "6a5bcb32-1987-4dba-a8e3-44be971656d7"
      },
      "outputs": [
        {
          "name": "stdout",
          "output_type": "stream",
          "text": [
            "[('SaoCarlos', '1'), ('SaoCarlos', '2'), ('SaoCarlos', '3'), ('Campinas', '1'), ('Campinas', '2'), ('Campinas', '3'), ('Sorocaba', '1'), ('Sorocaba', '2'), ('Sorocaba', '3'), ('Limeira', '1'), ('Limeira', '2'), ('Limeira', '3')]\n",
            "[20, 40, 50, 48, 15, 26, 26, 35, 18, 24, 50, 35]\n",
            "['1', '2', '3']\n",
            "{'1': 80, '2': 70, '3': 40}\n"
          ]
        }
      ],
      "source": [
        "print(temp_transporte)\n",
        "print(transporte)\n",
        "print(demandas)\n",
        "print(demandas_regioes)"
      ]
    },
    {
      "cell_type": "code",
      "execution_count": null,
      "metadata": {
        "colab": {
          "base_uri": "https://localhost:8080/"
        },
        "id": "44eLdEwyiiQg",
        "outputId": "7a39d2da-d51e-41c4-cdd0-957c839327d5"
      },
      "outputs": [
        {
          "name": "stdout",
          "output_type": "stream",
          "text": [
            "['SaoCarlos', 'Campinas', 'Sorocaba', 'Limeira']\n",
            "{'SaoCarlos': 400, 'Campinas': 500, 'Sorocaba': 300, 'Limeira': 150}\n",
            "[20, 40, 50, 48, 15, 26, 26, 35, 18, 24, 50, 35]\n",
            "{('SaoCarlos', '1'): 20, ('SaoCarlos', '2'): 40, ('SaoCarlos', '3'): 50, ('Campinas', '1'): 48, ('Campinas', '2'): 15, ('Campinas', '3'): 26, ('Sorocaba', '1'): 26, ('Sorocaba', '2'): 35, ('Sorocaba', '3'): 18, ('Limeira', '1'): 24, ('Limeira', '2'): 50, ('Limeira', '3'): 35}\n"
          ]
        }
      ],
      "source": [
        "print(depositos)\n",
        "print(custos_fixos)\n",
        "print(transporte)\n",
        "print(custos_transporte)\n"
      ]
    },
    {
      "cell_type": "code",
      "execution_count": null,
      "metadata": {
        "colab": {
          "base_uri": "https://localhost:8080/"
        },
        "id": "OSSS88rHaesE",
        "outputId": "1954ebd7-b1aa-4e0f-b658-2f73f7ab55b9"
      },
      "outputs": [
        {
          "name": "stdout",
          "output_type": "stream",
          "text": [
            "{'SaoCarlos': x(SaoCarlos), 'Campinas': x(Campinas), 'Sorocaba': x(Sorocaba), 'Limeira': x(Limeira)}\n",
            "{('SaoCarlos', '1'): p(SaoCarlos,1), ('SaoCarlos', '2'): p(SaoCarlos,2), ('SaoCarlos', '3'): p(SaoCarlos,3), ('Campinas', '1'): p(Campinas,1), ('Campinas', '2'): p(Campinas,2), ('Campinas', '3'): p(Campinas,3), ('Sorocaba', '1'): p(Sorocaba,1), ('Sorocaba', '2'): p(Sorocaba,2), ('Sorocaba', '3'): p(Sorocaba,3), ('Limeira', '1'): p(Limeira,1), ('Limeira', '2'): p(Limeira,2), ('Limeira', '3'): p(Limeira,3)}\n"
          ]
        }
      ],
      "source": [
        "# Construindo e solucionando o Modelo\n",
        "\n",
        "model = building_model(depositos, regioes, custos_fixos, custos_transporte, demandas_regioes)\n",
        "model.optimize()"
      ]
    },
    {
      "cell_type": "code",
      "execution_count": null,
      "metadata": {
        "colab": {
          "base_uri": "https://localhost:8080/"
        },
        "id": "LbmbY_KetBPb",
        "outputId": "01611526-1f8a-411a-d2d0-dbd0f0daac32"
      },
      "outputs": [
        {
          "name": "stdout",
          "output_type": "stream",
          "text": [
            "Valor ótimo encontrado:  4750.0\n",
            "Depósitos Abertos:  ['Campinas', 'Limeira']\n",
            "Envios realizados:  [('Campinas', '2'), ('Campinas', '3'), ('Limeira', '1'), ('Limeira', '3')]\n"
          ]
        }
      ],
      "source": [
        "# Imprimindo o valor da função objetivo e as variáveis com valores maiores que zero\n",
        "\n",
        "EPS = 1.e-6\n",
        "x,p = model.data\n",
        "depositos_abertos = [j for j in x if model.getVal(x[j]) > EPS]\n",
        "envios_realizados = [(i,j) for (i,j) in p if model.getVal(p[i,j]) > EPS]\n",
        "print(\"Valor ótimo encontrado: \", model.getObjVal())\n",
        "print(\"Depósitos Abertos: \", depositos_abertos)\n",
        "print(\"Envios realizados: \", envios_realizados)"
      ]
    },
    {
      "cell_type": "code",
      "execution_count": null,
      "metadata": {
        "colab": {
          "base_uri": "https://localhost:8080/"
        },
        "id": "qH_cafLq-gqf",
        "outputId": "c0b292ec-65ff-432c-8f75-4786bd18d772"
      },
      "outputs": [
        {
          "name": "stdout",
          "output_type": "stream",
          "text": [
            "x(SaoCarlos): 0\n",
            "x(Campinas): 1\n",
            "x(Sorocaba): 0\n",
            "x(Limeira): 1\n",
            "p(SaoCarlos,1): 0\n",
            "p(SaoCarlos,2): 0\n",
            "p(SaoCarlos,3): 0\n",
            "p(Campinas,1): 0\n",
            "p(Campinas,2): 70\n",
            "p(Campinas,3): 30\n",
            "p(Sorocaba,1): 0\n",
            "p(Sorocaba,2): 0\n",
            "p(Sorocaba,3): 0\n",
            "p(Limeira,1): 80\n",
            "p(Limeira,2): 0\n",
            "p(Limeira,3): 10\n"
          ]
        }
      ],
      "source": [
        "# Imprimindo as variáveis e os seus respectivos valores finais\n",
        "\n",
        "for v in model.getVars():\n",
        "  print(\"%s: %d\" % (v, round(model.getVal(v))))"
      ]
    },
    {
      "cell_type": "code",
      "execution_count": null,
      "metadata": {
        "colab": {
          "base_uri": "https://localhost:8080/"
        },
        "id": "A16mh_92HT3t",
        "outputId": "5574917f-ff32-4166-db42-c6cd5fbe1654"
      },
      "outputs": [
        {
          "name": "stdout",
          "output_type": "stream",
          "text": [
            "wrote problem to file /content/model.cip\n",
            "None\n"
          ]
        }
      ],
      "source": [
        "# Escrevendo modelo em arquivo\n",
        "\n",
        "print(model.writeProblem())"
      ]
    }
  ],
  "metadata": {
    "colab": {
      "provenance": []
    },
    "kernelspec": {
      "display_name": "Python 3",
      "name": "python3"
    },
    "language_info": {
      "codemirror_mode": {
        "name": "ipython",
        "version": 3
      },
      "file_extension": ".py",
      "mimetype": "text/x-python",
      "name": "python",
      "nbconvert_exporter": "python",
      "pygments_lexer": "ipython3",
      "version": "3.11.6"
    }
  },
  "nbformat": 4,
  "nbformat_minor": 0
}
